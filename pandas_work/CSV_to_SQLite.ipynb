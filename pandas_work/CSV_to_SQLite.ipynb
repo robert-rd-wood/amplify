{
 "cells": [
  {
   "cell_type": "code",
   "execution_count": 13,
   "metadata": {},
   "outputs": [],
   "source": [
    "## import dependencies\n",
    "\n",
    "from mixpanel_api import Mixpanel\n",
    "import pandas as pd\n",
    "from pandas.io.json import json_normalize\n",
    "import requests\n",
    "import json\n",
    "import matplotlib.pyplot as plt\n",
    "from matplotlib.patches import Patch\n",
    "import mpld3\n",
    "import numpy as np\n",
    "import seaborn as sns\n",
    "import scipy as stats\n",
    "import statsmodels.api as sm\n",
    "import sklearn\n",
    "pd.set_option('display.max_rows', None)"
   ]
  },
  {
   "cell_type": "code",
   "execution_count": 14,
   "metadata": {},
   "outputs": [
    {
     "data": {
      "text/html": [
       "<div>\n",
       "<style scoped>\n",
       "    .dataframe tbody tr th:only-of-type {\n",
       "        vertical-align: middle;\n",
       "    }\n",
       "\n",
       "    .dataframe tbody tr th {\n",
       "        vertical-align: top;\n",
       "    }\n",
       "\n",
       "    .dataframe thead th {\n",
       "        text-align: right;\n",
       "    }\n",
       "</style>\n",
       "<table border=\"1\" class=\"dataframe\">\n",
       "  <thead>\n",
       "    <tr style=\"text-align: right;\">\n",
       "      <th></th>\n",
       "      <th>index</th>\n",
       "      <th>Artist</th>\n",
       "      <th>artist_uri</th>\n",
       "      <th>genre</th>\n",
       "      <th>popularity_transformed</th>\n",
       "      <th>average_age</th>\n",
       "      <th>percent_female</th>\n",
       "    </tr>\n",
       "  </thead>\n",
       "  <tbody>\n",
       "    <tr>\n",
       "      <th>0</th>\n",
       "      <td>0</td>\n",
       "      <td>Ed Sheeran</td>\n",
       "      <td>spotify:artist:6eUKZXaKkcviH0Ku9w2n3V</td>\n",
       "      <td>Pop</td>\n",
       "      <td>65.296980</td>\n",
       "      <td>27.711369</td>\n",
       "      <td>0.582807</td>\n",
       "    </tr>\n",
       "    <tr>\n",
       "      <th>1</th>\n",
       "      <td>1</td>\n",
       "      <td>Billie Eilish</td>\n",
       "      <td>spotify:artist:6qqNVTkY8uBg9cP3Jd7DAH</td>\n",
       "      <td>Pop</td>\n",
       "      <td>56.075680</td>\n",
       "      <td>25.668671</td>\n",
       "      <td>0.637560</td>\n",
       "    </tr>\n",
       "    <tr>\n",
       "      <th>2</th>\n",
       "      <td>2</td>\n",
       "      <td>J Balvin</td>\n",
       "      <td>spotify:artist:1vyhD5VmyZ7KMfW5gqLgo5</td>\n",
       "      <td>Latin, World Hip Hop, World Pop</td>\n",
       "      <td>51.431778</td>\n",
       "      <td>26.480499</td>\n",
       "      <td>0.518023</td>\n",
       "    </tr>\n",
       "    <tr>\n",
       "      <th>3</th>\n",
       "      <td>3</td>\n",
       "      <td>Bad Bunny</td>\n",
       "      <td>spotify:artist:4q3ewBCX7sLwd24euuV69X</td>\n",
       "      <td>Latin, World Hip Hop</td>\n",
       "      <td>50.430630</td>\n",
       "      <td>25.964615</td>\n",
       "      <td>0.474236</td>\n",
       "    </tr>\n",
       "    <tr>\n",
       "      <th>4</th>\n",
       "      <td>4</td>\n",
       "      <td>Shawn Mendes</td>\n",
       "      <td>spotify:artist:7n2wHs1TKAczGzO7Dd2rGr</td>\n",
       "      <td>Pop, World Pop</td>\n",
       "      <td>49.605470</td>\n",
       "      <td>26.393292</td>\n",
       "      <td>0.646139</td>\n",
       "    </tr>\n",
       "  </tbody>\n",
       "</table>\n",
       "</div>"
      ],
      "text/plain": [
       "   index         Artist                             artist_uri  \\\n",
       "0      0     Ed Sheeran  spotify:artist:6eUKZXaKkcviH0Ku9w2n3V   \n",
       "1      1  Billie Eilish  spotify:artist:6qqNVTkY8uBg9cP3Jd7DAH   \n",
       "2      2       J Balvin  spotify:artist:1vyhD5VmyZ7KMfW5gqLgo5   \n",
       "3      3      Bad Bunny  spotify:artist:4q3ewBCX7sLwd24euuV69X   \n",
       "4      4   Shawn Mendes  spotify:artist:7n2wHs1TKAczGzO7Dd2rGr   \n",
       "\n",
       "                             genre  popularity_transformed  average_age  \\\n",
       "0                              Pop               65.296980    27.711369   \n",
       "1                              Pop               56.075680    25.668671   \n",
       "2  Latin, World Hip Hop, World Pop               51.431778    26.480499   \n",
       "3             Latin, World Hip Hop               50.430630    25.964615   \n",
       "4                   Pop, World Pop               49.605470    26.393292   \n",
       "\n",
       "   percent_female  \n",
       "0        0.582807  \n",
       "1        0.637560  \n",
       "2        0.518023  \n",
       "3        0.474236  \n",
       "4        0.646139  "
      ]
     },
     "execution_count": 14,
     "metadata": {},
     "output_type": "execute_result"
    }
   ],
   "source": [
    "file_1 = \"../db/amplify_db.csv\"\n",
    "raw_data_df = pd.read_csv(file_1)\n",
    "raw_data_df.head()"
   ]
  },
  {
   "cell_type": "code",
   "execution_count": 15,
   "metadata": {},
   "outputs": [
    {
     "data": {
      "text/plain": [
       "500000"
      ]
     },
     "execution_count": 15,
     "metadata": {},
     "output_type": "execute_result"
    }
   ],
   "source": [
    "len(raw_data_df)"
   ]
  },
  {
   "cell_type": "code",
   "execution_count": 16,
   "metadata": {},
   "outputs": [
    {
     "data": {
      "text/html": [
       "<div>\n",
       "<style scoped>\n",
       "    .dataframe tbody tr th:only-of-type {\n",
       "        vertical-align: middle;\n",
       "    }\n",
       "\n",
       "    .dataframe tbody tr th {\n",
       "        vertical-align: top;\n",
       "    }\n",
       "\n",
       "    .dataframe thead th {\n",
       "        text-align: right;\n",
       "    }\n",
       "</style>\n",
       "<table border=\"1\" class=\"dataframe\">\n",
       "  <thead>\n",
       "    <tr style=\"text-align: right;\">\n",
       "      <th></th>\n",
       "      <th>index</th>\n",
       "      <th>Artist</th>\n",
       "      <th>genre</th>\n",
       "      <th>popularity_transformed</th>\n",
       "      <th>average_age</th>\n",
       "      <th>percent_female</th>\n",
       "      <th>uri</th>\n",
       "    </tr>\n",
       "  </thead>\n",
       "  <tbody>\n",
       "    <tr>\n",
       "      <th>0</th>\n",
       "      <td>0</td>\n",
       "      <td>Ed Sheeran</td>\n",
       "      <td>Pop</td>\n",
       "      <td>65.296980</td>\n",
       "      <td>27.711369</td>\n",
       "      <td>0.582807</td>\n",
       "      <td>6eUKZXaKkcviH0Ku9w2n3V</td>\n",
       "    </tr>\n",
       "    <tr>\n",
       "      <th>1</th>\n",
       "      <td>1</td>\n",
       "      <td>Billie Eilish</td>\n",
       "      <td>Pop</td>\n",
       "      <td>56.075680</td>\n",
       "      <td>25.668671</td>\n",
       "      <td>0.637560</td>\n",
       "      <td>6qqNVTkY8uBg9cP3Jd7DAH</td>\n",
       "    </tr>\n",
       "    <tr>\n",
       "      <th>2</th>\n",
       "      <td>2</td>\n",
       "      <td>J Balvin</td>\n",
       "      <td>Latin, World Hip Hop, World Pop</td>\n",
       "      <td>51.431778</td>\n",
       "      <td>26.480499</td>\n",
       "      <td>0.518023</td>\n",
       "      <td>1vyhD5VmyZ7KMfW5gqLgo5</td>\n",
       "    </tr>\n",
       "    <tr>\n",
       "      <th>3</th>\n",
       "      <td>3</td>\n",
       "      <td>Bad Bunny</td>\n",
       "      <td>Latin, World Hip Hop</td>\n",
       "      <td>50.430630</td>\n",
       "      <td>25.964615</td>\n",
       "      <td>0.474236</td>\n",
       "      <td>4q3ewBCX7sLwd24euuV69X</td>\n",
       "    </tr>\n",
       "    <tr>\n",
       "      <th>4</th>\n",
       "      <td>4</td>\n",
       "      <td>Shawn Mendes</td>\n",
       "      <td>Pop, World Pop</td>\n",
       "      <td>49.605470</td>\n",
       "      <td>26.393292</td>\n",
       "      <td>0.646139</td>\n",
       "      <td>7n2wHs1TKAczGzO7Dd2rGr</td>\n",
       "    </tr>\n",
       "  </tbody>\n",
       "</table>\n",
       "</div>"
      ],
      "text/plain": [
       "   index         Artist                            genre  \\\n",
       "0      0     Ed Sheeran                              Pop   \n",
       "1      1  Billie Eilish                              Pop   \n",
       "2      2       J Balvin  Latin, World Hip Hop, World Pop   \n",
       "3      3      Bad Bunny             Latin, World Hip Hop   \n",
       "4      4   Shawn Mendes                   Pop, World Pop   \n",
       "\n",
       "   popularity_transformed  average_age  percent_female                     uri  \n",
       "0               65.296980    27.711369        0.582807  6eUKZXaKkcviH0Ku9w2n3V  \n",
       "1               56.075680    25.668671        0.637560  6qqNVTkY8uBg9cP3Jd7DAH  \n",
       "2               51.431778    26.480499        0.518023  1vyhD5VmyZ7KMfW5gqLgo5  \n",
       "3               50.430630    25.964615        0.474236  4q3ewBCX7sLwd24euuV69X  \n",
       "4               49.605470    26.393292        0.646139  7n2wHs1TKAczGzO7Dd2rGr  "
      ]
     },
     "execution_count": 16,
     "metadata": {},
     "output_type": "execute_result"
    }
   ],
   "source": [
    "# new data frame with split value columns \n",
    "new = raw_data_df[\"artist_uri\"].str.split(\":\", n = 2, expand = True) \n",
    "  \n",
    "# making separate columns for the uri only\n",
    "raw_data_df[\"uri\"]= new[2] \n",
    "\n",
    "# Dropping old Name columns \n",
    "raw_data_df.drop(columns =[\"artist_uri\"], inplace = True) \n",
    "raw_data_df.head()"
   ]
  },
  {
   "cell_type": "code",
   "execution_count": 17,
   "metadata": {},
   "outputs": [],
   "source": [
    "# create sqlite database\n",
    "from sqlalchemy import create_engine\n",
    "engine = create_engine('sqlite:///amplify_db.sqlite', echo=False)\n",
    "\n",
    "raw_data_df.to_sql('amplify_db', con=engine, if_exists='replace')\n",
    "# engine.execute(\"SELECT * FROM Food_file\").fetchall()"
   ]
  },
  {
   "cell_type": "code",
   "execution_count": 18,
   "metadata": {},
   "outputs": [
    {
     "data": {
      "text/plain": [
       "500000"
      ]
     },
     "execution_count": 18,
     "metadata": {},
     "output_type": "execute_result"
    }
   ],
   "source": [
    "len(raw_data_df)"
   ]
  },
  {
   "cell_type": "code",
   "execution_count": null,
   "metadata": {},
   "outputs": [],
   "source": []
  }
 ],
 "metadata": {
  "kernelspec": {
   "display_name": "Python 3",
   "language": "python",
   "name": "python3"
  },
  "language_info": {
   "codemirror_mode": {
    "name": "ipython",
    "version": 3
   },
   "file_extension": ".py",
   "mimetype": "text/x-python",
   "name": "python",
   "nbconvert_exporter": "python",
   "pygments_lexer": "ipython3",
   "version": "3.7.2"
  }
 },
 "nbformat": 4,
 "nbformat_minor": 2
}
